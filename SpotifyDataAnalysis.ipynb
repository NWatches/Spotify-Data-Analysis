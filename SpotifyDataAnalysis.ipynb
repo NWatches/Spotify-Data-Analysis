{
  "nbformat": 4,
  "nbformat_minor": 0,
  "metadata": {
    "colab": {
      "name": "Capstone3.ipynb",
      "provenance": [],
      "collapsed_sections": []
    },
    "kernelspec": {
      "name": "python3",
      "display_name": "Python 3"
    },
    "language_info": {
      "name": "python"
    }
  },
  "cells": [
    {
      "cell_type": "code",
      "metadata": {
        "colab": {
          "base_uri": "https://localhost:8080/"
        },
        "id": "kSYW6VQwIM6i",
        "outputId": "b83da620-737b-4cbf-c1bb-d6c37347aec9"
      },
      "source": [
        "from google.colab import drive\n",
        "drive.mount('/content/gdrive')"
      ],
      "execution_count": null,
      "outputs": [
        {
          "output_type": "stream",
          "name": "stdout",
          "text": [
            "Drive already mounted at /content/gdrive; to attempt to forcibly remount, call drive.mount(\"/content/gdrive\", force_remount=True).\n"
          ]
        }
      ]
    },
    {
      "cell_type": "code",
      "metadata": {
        "colab": {
          "base_uri": "https://localhost:8080/",
          "height": 360
        },
        "id": "x6iOxur7Jr_q",
        "outputId": "28b76b27-f909-4fd5-81f7-2b402b6a8126"
      },
      "source": [
        "# Import pandas and read in the GDrive-mounted CSV\n",
        "# Original link to datasource found at https://www.kaggle.com/tomigelo/spotify-audio-features/home\n",
        "    \n",
        "import pandas as pd\n",
        "from scipy import stats\n",
        "import seaborn as sns \n",
        "import numpy as np\n",
        "sns.set()\n",
        "sns.set_style(\"darkgrid\", rc={'figure.facecolor':'#191414', \n",
        "                              'axes.labelcolor': '#FFFFFF',\n",
        "                              'text.color': '#FFFFFF',\n",
        "                              'xtick.color': '#FFFFFF',\n",
        "                              'ytick.color': '#FFFFFF'})\n",
        "    \n",
        "df = pd.read_csv('/content/gdrive/My Drive/Colab Datasets/SpotifyAudioFeaturesApril2019.csv')\n",
        "df.head()"
      ],
      "execution_count": null,
      "outputs": [
        {
          "output_type": "execute_result",
          "data": {
            "text/html": [
              "<div>\n",
              "<style scoped>\n",
              "    .dataframe tbody tr th:only-of-type {\n",
              "        vertical-align: middle;\n",
              "    }\n",
              "\n",
              "    .dataframe tbody tr th {\n",
              "        vertical-align: top;\n",
              "    }\n",
              "\n",
              "    .dataframe thead th {\n",
              "        text-align: right;\n",
              "    }\n",
              "</style>\n",
              "<table border=\"1\" class=\"dataframe\">\n",
              "  <thead>\n",
              "    <tr style=\"text-align: right;\">\n",
              "      <th></th>\n",
              "      <th>artist_name</th>\n",
              "      <th>track_id</th>\n",
              "      <th>track_name</th>\n",
              "      <th>acousticness</th>\n",
              "      <th>danceability</th>\n",
              "      <th>duration_ms</th>\n",
              "      <th>energy</th>\n",
              "      <th>instrumentalness</th>\n",
              "      <th>key</th>\n",
              "      <th>liveness</th>\n",
              "      <th>loudness</th>\n",
              "      <th>mode</th>\n",
              "      <th>speechiness</th>\n",
              "      <th>tempo</th>\n",
              "      <th>time_signature</th>\n",
              "      <th>valence</th>\n",
              "      <th>popularity</th>\n",
              "    </tr>\n",
              "  </thead>\n",
              "  <tbody>\n",
              "    <tr>\n",
              "      <th>0</th>\n",
              "      <td>YG</td>\n",
              "      <td>2RM4jf1Xa9zPgMGRDiht8O</td>\n",
              "      <td>Big Bank feat. 2 Chainz, Big Sean, Nicki Minaj</td>\n",
              "      <td>0.005820</td>\n",
              "      <td>0.743</td>\n",
              "      <td>238373</td>\n",
              "      <td>0.339</td>\n",
              "      <td>0.000</td>\n",
              "      <td>1</td>\n",
              "      <td>0.0812</td>\n",
              "      <td>-7.678</td>\n",
              "      <td>1</td>\n",
              "      <td>0.4090</td>\n",
              "      <td>203.927</td>\n",
              "      <td>4</td>\n",
              "      <td>0.118</td>\n",
              "      <td>15</td>\n",
              "    </tr>\n",
              "    <tr>\n",
              "      <th>1</th>\n",
              "      <td>YG</td>\n",
              "      <td>1tHDG53xJNGsItRA3vfVgs</td>\n",
              "      <td>BAND DRUM (feat. A$AP Rocky)</td>\n",
              "      <td>0.024400</td>\n",
              "      <td>0.846</td>\n",
              "      <td>214800</td>\n",
              "      <td>0.557</td>\n",
              "      <td>0.000</td>\n",
              "      <td>8</td>\n",
              "      <td>0.2860</td>\n",
              "      <td>-7.259</td>\n",
              "      <td>1</td>\n",
              "      <td>0.4570</td>\n",
              "      <td>159.009</td>\n",
              "      <td>4</td>\n",
              "      <td>0.371</td>\n",
              "      <td>0</td>\n",
              "    </tr>\n",
              "    <tr>\n",
              "      <th>2</th>\n",
              "      <td>R3HAB</td>\n",
              "      <td>6Wosx2euFPMT14UXiWudMy</td>\n",
              "      <td>Radio Silence</td>\n",
              "      <td>0.025000</td>\n",
              "      <td>0.603</td>\n",
              "      <td>138913</td>\n",
              "      <td>0.723</td>\n",
              "      <td>0.000</td>\n",
              "      <td>9</td>\n",
              "      <td>0.0824</td>\n",
              "      <td>-5.890</td>\n",
              "      <td>0</td>\n",
              "      <td>0.0454</td>\n",
              "      <td>114.966</td>\n",
              "      <td>4</td>\n",
              "      <td>0.382</td>\n",
              "      <td>56</td>\n",
              "    </tr>\n",
              "    <tr>\n",
              "      <th>3</th>\n",
              "      <td>Chris Cooq</td>\n",
              "      <td>3J2Jpw61sO7l6Hc7qdYV91</td>\n",
              "      <td>Lactose</td>\n",
              "      <td>0.029400</td>\n",
              "      <td>0.800</td>\n",
              "      <td>125381</td>\n",
              "      <td>0.579</td>\n",
              "      <td>0.912</td>\n",
              "      <td>5</td>\n",
              "      <td>0.0994</td>\n",
              "      <td>-12.118</td>\n",
              "      <td>0</td>\n",
              "      <td>0.0701</td>\n",
              "      <td>123.003</td>\n",
              "      <td>4</td>\n",
              "      <td>0.641</td>\n",
              "      <td>0</td>\n",
              "    </tr>\n",
              "    <tr>\n",
              "      <th>4</th>\n",
              "      <td>Chris Cooq</td>\n",
              "      <td>2jbYvQCyPgX3CdmAzeVeuS</td>\n",
              "      <td>Same - Original mix</td>\n",
              "      <td>0.000035</td>\n",
              "      <td>0.783</td>\n",
              "      <td>124016</td>\n",
              "      <td>0.792</td>\n",
              "      <td>0.878</td>\n",
              "      <td>7</td>\n",
              "      <td>0.0332</td>\n",
              "      <td>-10.277</td>\n",
              "      <td>1</td>\n",
              "      <td>0.0661</td>\n",
              "      <td>120.047</td>\n",
              "      <td>4</td>\n",
              "      <td>0.928</td>\n",
              "      <td>0</td>\n",
              "    </tr>\n",
              "  </tbody>\n",
              "</table>\n",
              "</div>"
            ],
            "text/plain": [
              "  artist_name                track_id  ... valence  popularity\n",
              "0          YG  2RM4jf1Xa9zPgMGRDiht8O  ...   0.118          15\n",
              "1          YG  1tHDG53xJNGsItRA3vfVgs  ...   0.371           0\n",
              "2       R3HAB  6Wosx2euFPMT14UXiWudMy  ...   0.382          56\n",
              "3  Chris Cooq  3J2Jpw61sO7l6Hc7qdYV91  ...   0.641           0\n",
              "4  Chris Cooq  2jbYvQCyPgX3CdmAzeVeuS  ...   0.928           0\n",
              "\n",
              "[5 rows x 17 columns]"
            ]
          },
          "metadata": {},
          "execution_count": 109
        }
      ]
    },
    {
      "cell_type": "markdown",
      "metadata": {
        "id": "oR_feT0-KrSG"
      },
      "source": [
        "To examine how different features of a song affect it's popularity we will be conducting t-tests on the popularity of different categories of features.\n",
        "\n",
        "In this notebook we will examine energy, danceability and valence.\n",
        "\n",
        "First we must separate songs into low/high categories using the median value of each respective feature."
      ]
    },
    {
      "cell_type": "code",
      "metadata": {
        "colab": {
          "base_uri": "https://localhost:8080/"
        },
        "id": "HFPQdjpNKJdb",
        "outputId": "46154893-a859-44be-aaa4-756e4e5a5b2e"
      },
      "source": [
        "# Seperate into low and high energy by splitting into groups that are higher or lower than 0.50\n",
        "\n",
        "low_energy = df.iloc[(df['energy'] < 0.50).values]\n",
        "high_energy = df.iloc[(df['energy'] >= 0.50).values]\n",
        "print(low_energy[['artist_name', 'track_name', 'energy']])"
      ],
      "execution_count": null,
      "outputs": [
        {
          "output_type": "stream",
          "name": "stdout",
          "text": [
            "                artist_name  ... energy\n",
            "0                        YG  ...  0.339\n",
            "5                     Curbo  ...  0.417\n",
            "7                   G Herbo  ...  0.348\n",
            "8                   34 Feet  ...  0.472\n",
            "24                Bob Janga  ...  0.454\n",
            "...                     ...  ...    ...\n",
            "130644            floridomi  ...  0.457\n",
            "130648         Tierra Whack  ...  0.219\n",
            "130654  Gregory Alan Isakov  ...  0.393\n",
            "130656                Echos  ...  0.284\n",
            "130659         Saint Claire  ...  0.249\n",
            "\n",
            "[47281 rows x 3 columns]\n"
          ]
        }
      ]
    },
    {
      "cell_type": "code",
      "metadata": {
        "colab": {
          "base_uri": "https://localhost:8080/"
        },
        "id": "eTPTx-HxvEak",
        "outputId": "c0b95888-91cc-4cc6-88f9-83ffb9edc50c"
      },
      "source": [
        "# Run ttest on both samples to obtain a p-value which allows us to determine if the difference in population means is statistically significant\n",
        "stats.ttest_ind(low_energy['popularity'], high_energy['popularity'])"
      ],
      "execution_count": null,
      "outputs": [
        {
          "output_type": "execute_result",
          "data": {
            "text/plain": [
              "Ttest_indResult(statistic=-40.85074558903801, pvalue=0.0)"
            ]
          },
          "metadata": {},
          "execution_count": 111
        }
      ]
    },
    {
      "cell_type": "markdown",
      "metadata": {
        "id": "Jzpk_UpDvldg"
      },
      "source": [
        "As the p-value is close to 0 and less than 0.05 we can reject the null hypothesis that there is no difference in population means between the popularity of low energy and high energy songs.\n",
        "\n",
        "Now we can find the means of each sample to compare."
      ]
    },
    {
      "cell_type": "code",
      "metadata": {
        "colab": {
          "base_uri": "https://localhost:8080/"
        },
        "id": "RU5_9OTxwIbU",
        "outputId": "2968561a-fbf4-4631-a81b-2919e683bb15"
      },
      "source": [
        "low_energy_mean = low_energy['popularity'].mean()\n",
        "high_energy_mean = high_energy['popularity'].mean()\n",
        "print('Low Energy Mean: ', low_energy_mean, '\\n', 'High Energy Mean: ', high_energy_mean)"
      ],
      "execution_count": null,
      "outputs": [
        {
          "output_type": "stream",
          "name": "stdout",
          "text": [
            "Low Energy Mean:  21.269177893868573 \n",
            " High Energy Mean:  25.87598042743038\n"
          ]
        }
      ]
    },
    {
      "cell_type": "markdown",
      "metadata": {
        "id": "UGaBvWX7wzM9"
      },
      "source": [
        "We can now graph these means to visualize the difference.  We need to plot the different energy types against their popularity.  Since the original dataset doesn't have the energy type as a categorical value, we create one using numpy."
      ]
    },
    {
      "cell_type": "code",
      "metadata": {
        "colab": {
          "base_uri": "https://localhost:8080/",
          "height": 302
        },
        "id": "nN3vB0W9w4We",
        "outputId": "73ff3e0d-20e8-4c82-fc46-78ea30986004"
      },
      "source": [
        "# create a list of our conditions\n",
        "conditions = [\n",
        "    (df['energy'] < 0.50),\n",
        "    (df['energy'] >= 0.50)\n",
        "    ]\n",
        "\n",
        "# create a list of the values we want to assign for each condition\n",
        "values = ['low energy', 'high energy']\n",
        "\n",
        "# create a new column and use np.select to assign values to it using our lists as arguments\n",
        "df['energy_type'] = np.select(conditions, values)\n",
        "\n",
        "sns.boxplot(y='popularity', x='energy_type', data=df)"
      ],
      "execution_count": null,
      "outputs": [
        {
          "output_type": "execute_result",
          "data": {
            "text/plain": [
              "<matplotlib.axes._subplots.AxesSubplot at 0x7f605655e990>"
            ]
          },
          "metadata": {},
          "execution_count": 113
        },
        {
          "output_type": "display_data",
          "data": {
            "image/png": "[encoded data removed]",
            "text/plain": [
              "<Figure size 432x288 with 1 Axes>"
            ]
          },
          "metadata": {}
        }
      ]
    },
    {
      "cell_type": "markdown",
      "metadata": {
        "id": "FQR5oZb_9zk1"
      },
      "source": [
        "As you can see here, songs with high energy have a higher median popularity values.\n",
        "\n",
        "Now we can use this same method to explore danceability"
      ]
    },
    {
      "cell_type": "code",
      "metadata": {
        "colab": {
          "base_uri": "https://localhost:8080/"
        },
        "id": "UgA6DL_u_WSg",
        "outputId": "2259c6fc-09a0-4aa1-fbb2-7cc398daa33b"
      },
      "source": [
        "# Seperate into low and high danceability by splitting into groups that are higher or lower than 0.50\n",
        "\n",
        "low_danceability = df.iloc[(df['danceability'] < 0.50).values]\n",
        "high_danceability = df.iloc[(df['danceability'] >= 0.50).values]\n",
        "\n",
        "stats.ttest_ind(low_danceability['popularity'], high_danceability['popularity'])"
      ],
      "execution_count": null,
      "outputs": [
        {
          "output_type": "execute_result",
          "data": {
            "text/plain": [
              "Ttest_indResult(statistic=-40.08225634407323, pvalue=0.0)"
            ]
          },
          "metadata": {},
          "execution_count": 114
        }
      ]
    },
    {
      "cell_type": "markdown",
      "metadata": {
        "id": "PU9C5h06BR0p"
      },
      "source": [
        "As the p-value is close to 0 and less than 0.05 we can reject the null hypothesis that there is no difference in population means between the popularity of low energy and high energy songs."
      ]
    },
    {
      "cell_type": "code",
      "metadata": {
        "colab": {
          "base_uri": "https://localhost:8080/",
          "height": 302
        },
        "id": "xFYjuTR5Cb3O",
        "outputId": "4211b108-8fda-4559-a64c-ed21535ccca4"
      },
      "source": [
        "# create a list of our conditions\n",
        "conditions = [\n",
        "    (df['danceability'] < 0.50),\n",
        "    (df['danceability'] >= 0.50)\n",
        "    ]\n",
        "\n",
        "# create a list of the values we want to assign for each condition\n",
        "values = ['low danceability', 'high danceability']\n",
        "\n",
        "# create a new column and use np.select to assign values to it using our lists as arguments\n",
        "df['danceability_type'] = np.select(conditions, values)\n",
        "\n",
        "sns.boxplot(y='popularity', x='danceability_type', order=['low danceability', 'high danceability'], data=df)"
      ],
      "execution_count": null,
      "outputs": [
        {
          "output_type": "execute_result",
          "data": {
            "text/plain": [
              "<matplotlib.axes._subplots.AxesSubplot at 0x7f603f4f2d10>"
            ]
          },
          "metadata": {},
          "execution_count": 115
        },
        {
          "output_type": "display_data",
          "data": {
            "image/png": "[encoded data removed]",
            "text/plain": [
              "<Figure size 432x288 with 1 Axes>"
            ]
          },
          "metadata": {}
        }
      ]
    },
    {
      "cell_type": "markdown",
      "metadata": {
        "id": "CrQOFFKWDM_W"
      },
      "source": [
        "We can see that songs that are more danceable tend to be more popular.\n",
        "\n",
        "Finally we can repeat this method one more time for valence."
      ]
    },
    {
      "cell_type": "code",
      "metadata": {
        "colab": {
          "base_uri": "https://localhost:8080/"
        },
        "id": "AwVYR0P4DcrE",
        "outputId": "0bcb2254-1ec6-458d-c2df-15939c507eba"
      },
      "source": [
        "low_energy = df.iloc[(df['valence'] < 0.50).values]\n",
        "high_energy = df.iloc[(df['valence'] >= 0.50).values]\n",
        "\n",
        "stats.ttest_ind(low_energy['popularity'], high_energy['popularity'])"
      ],
      "execution_count": null,
      "outputs": [
        {
          "output_type": "execute_result",
          "data": {
            "text/plain": [
              "Ttest_indResult(statistic=-0.49260476157965255, pvalue=0.6222927106786019)"
            ]
          },
          "metadata": {},
          "execution_count": 116
        }
      ]
    },
    {
      "cell_type": "markdown",
      "metadata": {
        "id": "LfDepMLZDmZq"
      },
      "source": [
        "Here we find the p-value > 0.05 so we can't reject the null hypothesis.\n",
        "\n",
        "We can still visualize the difference in valences for consistency, but it's important to keep in mind that any difference you may see isn't statistically significant and could be due to random chance."
      ]
    },
    {
      "cell_type": "code",
      "metadata": {
        "colab": {
          "base_uri": "https://localhost:8080/",
          "height": 302
        },
        "id": "5MRW5GBzEbVI",
        "outputId": "bd173a18-2f14-41af-d0a8-7333a1ea266e"
      },
      "source": [
        "# create a list of our conditions\n",
        "conditions = [\n",
        "    (df['valence'] < 0.50),\n",
        "    (df['valence'] >= 0.50)\n",
        "    ]\n",
        "\n",
        "# create a list of the values we want to assign for each condition\n",
        "values = ['low valence', 'high valence']\n",
        "\n",
        "# create a new column and use np.select to assign values to it using our lists as arguments\n",
        "df['valence_type'] = np.select(conditions, values)\n",
        "\n",
        "sns.boxplot(y='popularity', x='valence_type', data=df)"
      ],
      "execution_count": null,
      "outputs": [
        {
          "output_type": "execute_result",
          "data": {
            "text/plain": [
              "<matplotlib.axes._subplots.AxesSubplot at 0x7f603f334690>"
            ]
          },
          "metadata": {},
          "execution_count": 117
        },
        {
          "output_type": "display_data",
          "data": {
            "image/png": "[encoded data removed]",
            "text/plain": [
              "<Figure size 432x288 with 1 Axes>"
            ]
          },
          "metadata": {}
        }
      ]
    },
    {
      "cell_type": "markdown",
      "metadata": {
        "id": "b1X2t9KvEoat"
      },
      "source": [
        "From this analysis we've discovered how the difference in energy and danceability of a song can influence it's popularity.  We also found that the valence of a song should not have an effect on it's popularity.\n",
        "\n",
        "Using this knowledge an artist wanting to be popular may be interested in creating danceable, high energy songs.  Of course there are many other factors that will impact how popular there music will be, but using these insights can give atleast some guidance towards how an artist can find success."
      ]
    }
  ]
}